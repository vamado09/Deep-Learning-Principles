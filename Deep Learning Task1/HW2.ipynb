{
  "nbformat": 4,
  "nbformat_minor": 0,
  "metadata": {
    "colab": {
      "provenance": [],
      "toc_visible": true
    },
    "kernelspec": {
      "name": "python3",
      "display_name": "Python 3"
    },
    "language_info": {
      "name": "python"
    }
  },
  "cells": [
    {
      "cell_type": "markdown",
      "source": [
        "Vicente De Leon\n",
        "\n",
        "Deep Learning Principles: Homework 2\n",
        "\n",
        "UID: 2001014594 "
      ],
      "metadata": {
        "id": "eAXMNkk4YaZW"
      }
    },
    {
      "cell_type": "markdown",
      "source": [
        "# TensorFlow"
      ],
      "metadata": {
        "id": "G2r76Q3onad3"
      }
    },
    {
      "cell_type": "code",
      "source": [
        "!pip install --upgrade tensorflow # Latest Tensorflow"
      ],
      "metadata": {
        "id": "uGCk53vPkadd"
      },
      "execution_count": null,
      "outputs": []
    },
    {
      "cell_type": "code",
      "source": [
        "import tensorflow as tf\n",
        "print(tf.__version__) # Tensorflow version"
      ],
      "metadata": {
        "colab": {
          "base_uri": "https://localhost:8080/"
        },
        "id": "qNGyg62Fkpo8",
        "outputId": "2ae0ebac-a71a-47f9-aba2-683186420176"
      },
      "execution_count": 2,
      "outputs": [
        {
          "output_type": "stream",
          "name": "stdout",
          "text": [
            "2.12.0\n"
          ]
        }
      ]
    },
    {
      "cell_type": "markdown",
      "source": [
        "TensorBoard dependencies not necessary, keeping these codes here in case of future references."
      ],
      "metadata": {
        "id": "Q9dt5XTcdCCg"
      }
    },
    {
      "cell_type": "code",
      "source": [
        "#!pip install -q -U tensorboard\n",
        "#!pip install tensorboard==2.12.0"
      ],
      "metadata": {
        "id": "POgiKG_klbSt"
      },
      "execution_count": null,
      "outputs": []
    },
    {
      "cell_type": "markdown",
      "source": [
        "Loading the TensorBoard notebook extension"
      ],
      "metadata": {
        "id": "c6NWrdVKHCD1"
      }
    },
    {
      "cell_type": "code",
      "source": [
        "#import datetime\n",
        "#%load_ext tensorboard"
      ],
      "metadata": {
        "id": "CYNouXx0kAPQ"
      },
      "execution_count": 4,
      "outputs": []
    },
    {
      "cell_type": "code",
      "source": [
        "#from tensorflow.keras.callbacks import TensorBoard"
      ],
      "metadata": {
        "id": "aIcYG787oODJ"
      },
      "execution_count": 5,
      "outputs": []
    },
    {
      "cell_type": "markdown",
      "source": [
        "# Pandas, Numpy, Keras"
      ],
      "metadata": {
        "id": "M2JBrphamKg_"
      }
    },
    {
      "cell_type": "code",
      "source": [
        "import pandas as pd\n",
        "import numpy as np\n",
        "from tensorflow.keras.models import Sequential\n",
        "from keras.utils.vis_utils import plot_model\n",
        "from tensorflow.keras.layers import Dense\n",
        "from tensorflow.keras.optimizers import SGD\n",
        "from tensorflow.keras.losses import MeanAbsoluteError"
      ],
      "metadata": {
        "id": "emtjsnI8mK8L"
      },
      "execution_count": 3,
      "outputs": []
    },
    {
      "cell_type": "markdown",
      "source": [
        "# Task"
      ],
      "metadata": {
        "id": "pfrj0d9bdZsz"
      }
    },
    {
      "cell_type": "markdown",
      "source": [
        "## Model\n",
        "\n",
        "Last semester I had the opportunity to take Applied Machine Learning course in which we use Deep Learning tools like PyTorch, TensorFlow (Keras), Tensorboard to create our own MLP, CNN, FCN Models for object classification and detection. We as a group, had the opportunity to use different optimizers, regularization techniques, and tools to create our models. Since this is a basic model, I will try to stick as basic a possible using internet sources and Applied Machine Learning coursework including my group final project work for formulas/techniques etc."
      ],
      "metadata": {
        "id": "ynwIS5g_ojm1"
      }
    },
    {
      "cell_type": "markdown",
      "source": [
        "Even though my CNN model from last semester had a similar structure using Sequential(), I found that creating a deep learning model this way makes it easier for me to understand. Since this is not a CNN model (Conv2D), I will use Dense layer which is fully connected layer and the most common type of layer used on MLP Models.\n",
        "Specifications:\n",
        "-\t5-dimensional vector.\n",
        "-\tHidden layer has a three dimension with bias enabled. Activation function is ReLU.\n",
        "-\tFinal layer outputs a scalar value with sigmoid activation.\n",
        "\n",
        "`Relu Activation Function` (Rectified Activation Function): With default values, this returns the standard ReLU activation: max(x, 0), the element-wise maximum of 0 and the input tensor.\n",
        "\n",
        "$$ReLU(x) = (x)^+ = \\max(0, x)$$\n",
        "\n",
        "`Sigmoid Activation Function` Will always returns a value between 0 and 1.\n",
        "\n",
        "$$\\text{Sigmoid}(x) = \\sigma(x) = \\frac{1}{1 + e^{-x}}$$\n",
        "\n",
        "`Mean Absolute Error` is the average of all absolute errors. The absolute average distance between the real data and the predicted data. In this case the MAE will be used to minimze the absolute difference between the predicted output and the output 0.30.\n",
        "\n",
        "$$\\text{MAE} = \\frac{1}{n} \\sum_{i=1}^{n} |y_i - \\hat{y}_i|$$\n"
      ],
      "metadata": {
        "id": "T20oQwSYtmTc"
      }
    },
    {
      "cell_type": "code",
      "source": [
        "# Prof J. Shanahan adviced us to RELU instead of Sigmoid for final project.\n",
        "# hidden dimensions -> 3\n",
        "# input dimensions -> 5\n",
        "# output dimensions -> 1\n",
        "\n",
        "# Basic initial learning rate from APML homework\n",
        "lr = 0.01\n",
        "\n",
        "model = Sequential()\n",
        "\n",
        "model.add(Dense(3, input_dim = 5, activation = 'relu'))\n",
        "model.add(Dense(1, activation = 'sigmoid')) # Final Layer outputs a scalar value with sigmoid\n",
        "\n",
        "model.compile(loss = MeanAbsoluteError(),\n",
        "              optimizer = SGD(lr)) # APML homework -> Stochastic Gradient Descent. Adam, RMSProp, Adagrad"
      ],
      "metadata": {
        "id": "p747qGSRoi8p"
      },
      "execution_count": 4,
      "outputs": []
    },
    {
      "cell_type": "markdown",
      "source": [
        "The `first layer` (Dense - fully connected) has 3 hidden layers and 5 input dimensions -> (5x3) and 3 = 15 weights and 3 biases.\n",
        "\n",
        "The `second layer` (Dense - fully connected) has 3 layers from the previous layer and 1 hidden layer -> (3x1) and 1 = 3 weights and 1 bias.\n",
        "Total weights -> 15 + 3 = 18 weights \n",
        "Total biases -> 3 + 1 = 4 biases.\n",
        "\n",
        "Total params -> 18 + 4 = 22.\n"
      ],
      "metadata": {
        "id": "RpGfvS4khqKg"
      }
    },
    {
      "cell_type": "code",
      "source": [
        "model.summary()"
      ],
      "metadata": {
        "colab": {
          "base_uri": "https://localhost:8080/"
        },
        "id": "a2ZctuwZoi6S",
        "outputId": "89276ef9-fc4a-419d-c513-075017dbd006"
      },
      "execution_count": 5,
      "outputs": [
        {
          "output_type": "stream",
          "name": "stdout",
          "text": [
            "Model: \"sequential\"\n",
            "_________________________________________________________________\n",
            " Layer (type)                Output Shape              Param #   \n",
            "=================================================================\n",
            " dense (Dense)               (None, 3)                 18        \n",
            "                                                                 \n",
            " dense_1 (Dense)             (None, 1)                 4         \n",
            "                                                                 \n",
            "=================================================================\n",
            "Total params: 22\n",
            "Trainable params: 22\n",
            "Non-trainable params: 0\n",
            "_________________________________________________________________\n"
          ]
        }
      ]
    },
    {
      "cell_type": "code",
      "source": [
        "plot_model(model, to_file='model_plot.png', show_shapes=True, show_layer_names=True)"
      ],
      "metadata": {
        "colab": {
          "base_uri": "https://localhost:8080/",
          "height": 312
        },
        "id": "jjBroqbIoi4N",
        "outputId": "0834f228-8aa8-4b91-d4be-abc2c1a64860"
      },
      "execution_count": 7,
      "outputs": [
        {
          "output_type": "execute_result",
          "data": {
            "image/png": "[encoded data removed]",
            "text/plain": [
              "<IPython.core.display.Image object>"
            ]
          },
          "metadata": {},
          "execution_count": 7
        }
      ]
    },
    {
      "cell_type": "markdown",
      "source": [
        "### Training\n",
        "\n",
        "Creating X_train which is going to be an array of specified shape of (1000, 5). This will be used as the input data for the model. The y_train is going to be an array of shape of (1000, 1) filled with 0.30. This is going to be used ad the target output.\n",
        "\n",
        "Epochs, learning rate, and any other number that is not related to input, output, or hidden dimensions are just picked randomly and from Applied Machine Learning coursework."
      ],
      "metadata": {
        "id": "V5vXbbeKO2C4"
      }
    },
    {
      "cell_type": "code",
      "source": [
        "# random seed APML homework\n",
        "np.random.seed(0)\n",
        "\n",
        "# input dimensions -> 5\n",
        "# output dimensions -> 1\n",
        "X_train = np.random.rand(1000, 5) # APML Homework\n",
        "y_train = np.full((1000, 1), 0.30) # output of 0.30"
      ],
      "metadata": {
        "id": "C2FyTql2oi2G"
      },
      "execution_count": 8,
      "outputs": []
    },
    {
      "cell_type": "code",
      "source": [
        "epochs = 100 # 50 epochs (no), 100 epochs got me the wanted predicted result of 0.30\n",
        "\n",
        "history = model.fit(X_train, y_train, epochs = epochs, verbose = 1) # APML Homework\n",
        "min_loss = min(history.history['loss']) # APML Homework\n",
        "print('\\n')\n",
        "print(f'Thelowest training loss after 1000 epochs is: {min_loss}')"
      ],
      "metadata": {
        "colab": {
          "base_uri": "https://localhost:8080/"
        },
        "id": "w3EpfQIUoi0B",
        "outputId": "dde20dd5-c08d-4510-defe-b107d9c59088"
      },
      "execution_count": 9,
      "outputs": [
        {
          "output_type": "stream",
          "name": "stdout",
          "text": [
            "Epoch 1/100\n",
            "32/32 [==============================] - 1s 2ms/step - loss: 0.1483\n",
            "Epoch 2/100\n",
            "32/32 [==============================] - 0s 2ms/step - loss: 0.1123\n",
            "Epoch 3/100\n",
            "32/32 [==============================] - 0s 1ms/step - loss: 0.0923\n",
            "Epoch 4/100\n",
            "32/32 [==============================] - 0s 1ms/step - loss: 0.0818\n",
            "Epoch 5/100\n",
            "32/32 [==============================] - 0s 2ms/step - loss: 0.0756\n",
            "Epoch 6/100\n",
            "32/32 [==============================] - 0s 1ms/step - loss: 0.0720\n",
            "Epoch 7/100\n",
            "32/32 [==============================] - 0s 2ms/step - loss: 0.0697\n",
            "Epoch 8/100\n",
            "32/32 [==============================] - 0s 2ms/step - loss: 0.0679\n",
            "Epoch 9/100\n",
            "32/32 [==============================] - 0s 2ms/step - loss: 0.0663\n",
            "Epoch 10/100\n",
            "32/32 [==============================] - 0s 2ms/step - loss: 0.0649\n",
            "Epoch 11/100\n",
            "32/32 [==============================] - 0s 1ms/step - loss: 0.0635\n",
            "Epoch 12/100\n",
            "32/32 [==============================] - 0s 2ms/step - loss: 0.0621\n",
            "Epoch 13/100\n",
            "32/32 [==============================] - 0s 2ms/step - loss: 0.0608\n",
            "Epoch 14/100\n",
            "32/32 [==============================] - 0s 2ms/step - loss: 0.0594\n",
            "Epoch 15/100\n",
            "32/32 [==============================] - 0s 1ms/step - loss: 0.0581\n",
            "Epoch 16/100\n",
            "32/32 [==============================] - 0s 1ms/step - loss: 0.0568\n",
            "Epoch 17/100\n",
            "32/32 [==============================] - 0s 2ms/step - loss: 0.0555\n",
            "Epoch 18/100\n",
            "32/32 [==============================] - 0s 2ms/step - loss: 0.0543\n",
            "Epoch 19/100\n",
            "32/32 [==============================] - 0s 2ms/step - loss: 0.0531\n",
            "Epoch 20/100\n",
            "32/32 [==============================] - 0s 2ms/step - loss: 0.0519\n",
            "Epoch 21/100\n",
            "32/32 [==============================] - 0s 2ms/step - loss: 0.0507\n",
            "Epoch 22/100\n",
            "32/32 [==============================] - 0s 2ms/step - loss: 0.0495\n",
            "Epoch 23/100\n",
            "32/32 [==============================] - 0s 2ms/step - loss: 0.0483\n",
            "Epoch 24/100\n",
            "32/32 [==============================] - 0s 1ms/step - loss: 0.0472\n",
            "Epoch 25/100\n",
            "32/32 [==============================] - 0s 2ms/step - loss: 0.0461\n",
            "Epoch 26/100\n",
            "32/32 [==============================] - 0s 1ms/step - loss: 0.0450\n",
            "Epoch 27/100\n",
            "32/32 [==============================] - 0s 2ms/step - loss: 0.0439\n",
            "Epoch 28/100\n",
            "32/32 [==============================] - 0s 2ms/step - loss: 0.0428\n",
            "Epoch 29/100\n",
            "32/32 [==============================] - 0s 2ms/step - loss: 0.0417\n",
            "Epoch 30/100\n",
            "32/32 [==============================] - 0s 2ms/step - loss: 0.0407\n",
            "Epoch 31/100\n",
            "32/32 [==============================] - 0s 2ms/step - loss: 0.0397\n",
            "Epoch 32/100\n",
            "32/32 [==============================] - 0s 2ms/step - loss: 0.0387\n",
            "Epoch 33/100\n",
            "32/32 [==============================] - 0s 2ms/step - loss: 0.0377\n",
            "Epoch 34/100\n",
            "32/32 [==============================] - 0s 3ms/step - loss: 0.0367\n",
            "Epoch 35/100\n",
            "32/32 [==============================] - 0s 2ms/step - loss: 0.0357\n",
            "Epoch 36/100\n",
            "32/32 [==============================] - 0s 2ms/step - loss: 0.0347\n",
            "Epoch 37/100\n",
            "32/32 [==============================] - 0s 2ms/step - loss: 0.0338\n",
            "Epoch 38/100\n",
            "32/32 [==============================] - 0s 2ms/step - loss: 0.0329\n",
            "Epoch 39/100\n",
            "32/32 [==============================] - 0s 2ms/step - loss: 0.0320\n",
            "Epoch 40/100\n",
            "32/32 [==============================] - 0s 2ms/step - loss: 0.0311\n",
            "Epoch 41/100\n",
            "32/32 [==============================] - 0s 2ms/step - loss: 0.0303\n",
            "Epoch 42/100\n",
            "32/32 [==============================] - 0s 2ms/step - loss: 0.0294\n",
            "Epoch 43/100\n",
            "32/32 [==============================] - 0s 2ms/step - loss: 0.0286\n",
            "Epoch 44/100\n",
            "32/32 [==============================] - 0s 2ms/step - loss: 0.0278\n",
            "Epoch 45/100\n",
            "32/32 [==============================] - 0s 2ms/step - loss: 0.0270\n",
            "Epoch 46/100\n",
            "32/32 [==============================] - 0s 2ms/step - loss: 0.0262\n",
            "Epoch 47/100\n",
            "32/32 [==============================] - 0s 2ms/step - loss: 0.0254\n",
            "Epoch 48/100\n",
            "32/32 [==============================] - 0s 2ms/step - loss: 0.0247\n",
            "Epoch 49/100\n",
            "32/32 [==============================] - 0s 2ms/step - loss: 0.0240\n",
            "Epoch 50/100\n",
            "32/32 [==============================] - 0s 2ms/step - loss: 0.0232\n",
            "Epoch 51/100\n",
            "32/32 [==============================] - 0s 2ms/step - loss: 0.0225\n",
            "Epoch 52/100\n",
            "32/32 [==============================] - 0s 2ms/step - loss: 0.0218\n",
            "Epoch 53/100\n",
            "32/32 [==============================] - 0s 2ms/step - loss: 0.0211\n",
            "Epoch 54/100\n",
            "32/32 [==============================] - 0s 2ms/step - loss: 0.0205\n",
            "Epoch 55/100\n",
            "32/32 [==============================] - 0s 3ms/step - loss: 0.0198\n",
            "Epoch 56/100\n",
            "32/32 [==============================] - 0s 2ms/step - loss: 0.0191\n",
            "Epoch 57/100\n",
            "32/32 [==============================] - 0s 2ms/step - loss: 0.0185\n",
            "Epoch 58/100\n",
            "32/32 [==============================] - 0s 2ms/step - loss: 0.0178\n",
            "Epoch 59/100\n",
            "32/32 [==============================] - 0s 2ms/step - loss: 0.0172\n",
            "Epoch 60/100\n",
            "32/32 [==============================] - 0s 2ms/step - loss: 0.0166\n",
            "Epoch 61/100\n",
            "32/32 [==============================] - 0s 2ms/step - loss: 0.0160\n",
            "Epoch 62/100\n",
            "32/32 [==============================] - 0s 2ms/step - loss: 0.0154\n",
            "Epoch 63/100\n",
            "32/32 [==============================] - 0s 2ms/step - loss: 0.0148\n",
            "Epoch 64/100\n",
            "32/32 [==============================] - 0s 2ms/step - loss: 0.0142\n",
            "Epoch 65/100\n",
            "32/32 [==============================] - 0s 2ms/step - loss: 0.0136\n",
            "Epoch 66/100\n",
            "32/32 [==============================] - 0s 2ms/step - loss: 0.0130\n",
            "Epoch 67/100\n",
            "32/32 [==============================] - 0s 2ms/step - loss: 0.0124\n",
            "Epoch 68/100\n",
            "32/32 [==============================] - 0s 3ms/step - loss: 0.0119\n",
            "Epoch 69/100\n",
            "32/32 [==============================] - 0s 2ms/step - loss: 0.0113\n",
            "Epoch 70/100\n",
            "32/32 [==============================] - 0s 3ms/step - loss: 0.0108\n",
            "Epoch 71/100\n",
            "32/32 [==============================] - 0s 2ms/step - loss: 0.0102\n",
            "Epoch 72/100\n",
            "32/32 [==============================] - 0s 2ms/step - loss: 0.0097\n",
            "Epoch 73/100\n",
            "32/32 [==============================] - 0s 2ms/step - loss: 0.0092\n",
            "Epoch 74/100\n",
            "32/32 [==============================] - 0s 3ms/step - loss: 0.0086\n",
            "Epoch 75/100\n",
            "32/32 [==============================] - 0s 2ms/step - loss: 0.0081\n",
            "Epoch 76/100\n",
            "32/32 [==============================] - 0s 2ms/step - loss: 0.0076\n",
            "Epoch 77/100\n",
            "32/32 [==============================] - 0s 2ms/step - loss: 0.0070\n",
            "Epoch 78/100\n",
            "32/32 [==============================] - 0s 2ms/step - loss: 0.0065\n",
            "Epoch 79/100\n",
            "32/32 [==============================] - 0s 1ms/step - loss: 0.0060\n",
            "Epoch 80/100\n",
            "32/32 [==============================] - 0s 1ms/step - loss: 0.0055\n",
            "Epoch 81/100\n",
            "32/32 [==============================] - 0s 2ms/step - loss: 0.0050\n",
            "Epoch 82/100\n",
            "32/32 [==============================] - 0s 1ms/step - loss: 0.0045\n",
            "Epoch 83/100\n",
            "32/32 [==============================] - 0s 2ms/step - loss: 0.0040\n",
            "Epoch 84/100\n",
            "32/32 [==============================] - 0s 1ms/step - loss: 0.0035\n",
            "Epoch 85/100\n",
            "32/32 [==============================] - 0s 1ms/step - loss: 0.0030\n",
            "Epoch 86/100\n",
            "32/32 [==============================] - 0s 2ms/step - loss: 0.0025\n",
            "Epoch 87/100\n",
            "32/32 [==============================] - 0s 1ms/step - loss: 0.0020\n",
            "Epoch 88/100\n",
            "32/32 [==============================] - 0s 2ms/step - loss: 0.0015\n",
            "Epoch 89/100\n",
            "32/32 [==============================] - 0s 1ms/step - loss: 0.0010\n",
            "Epoch 90/100\n",
            "32/32 [==============================] - 0s 1ms/step - loss: 7.2136e-04\n",
            "Epoch 91/100\n",
            "32/32 [==============================] - 0s 2ms/step - loss: 7.3784e-04\n",
            "Epoch 92/100\n",
            "32/32 [==============================] - 0s 2ms/step - loss: 7.2228e-04\n",
            "Epoch 93/100\n",
            "32/32 [==============================] - 0s 2ms/step - loss: 7.1896e-04\n",
            "Epoch 94/100\n",
            "32/32 [==============================] - 0s 2ms/step - loss: 7.1097e-04\n",
            "Epoch 95/100\n",
            "32/32 [==============================] - 0s 1ms/step - loss: 6.8673e-04\n",
            "Epoch 96/100\n",
            "32/32 [==============================] - 0s 1ms/step - loss: 6.7976e-04\n",
            "Epoch 97/100\n",
            "32/32 [==============================] - 0s 2ms/step - loss: 6.7521e-04\n",
            "Epoch 98/100\n",
            "32/32 [==============================] - 0s 2ms/step - loss: 6.5659e-04\n",
            "Epoch 99/100\n",
            "32/32 [==============================] - 0s 2ms/step - loss: 6.5545e-04\n",
            "Epoch 100/100\n",
            "32/32 [==============================] - 0s 1ms/step - loss: 6.4390e-04\n",
            "\n",
            "\n",
            "Thelowest training loss after 1000 epochs is: 0.000643896812107414\n"
          ]
        }
      ]
    },
    {
      "cell_type": "markdown",
      "source": [
        "The lowest training loss after 100 epochs is -> 0.000643896812107414."
      ],
      "metadata": {
        "id": "73re6s6EurnM"
      }
    },
    {
      "cell_type": "markdown",
      "source": [
        "### Test"
      ],
      "metadata": {
        "id": "3pnUQ4JqPYRR"
      }
    },
    {
      "cell_type": "code",
      "source": [
        "# input dimensions -> 5\n",
        "# output dimensions -> 1\n",
        "\n",
        "X_test = np.random.rand(100, 5)"
      ],
      "metadata": {
        "id": "wDA5HrTgMeYT"
      },
      "execution_count": 10,
      "outputs": []
    },
    {
      "cell_type": "code",
      "source": [
        "prediction = model.predict(X_test)\n",
        "y_pred = np.round(prediction, 3)\n",
        "print(f'Prediction is: {y_pred[0][0]}') # 50 epochs not useful"
      ],
      "metadata": {
        "colab": {
          "base_uri": "https://localhost:8080/"
        },
        "id": "ESNzyaUrMeV_",
        "outputId": "4e2beaca-3a68-4219-a43c-d15b87b4f531"
      },
      "execution_count": 11,
      "outputs": [
        {
          "output_type": "stream",
          "name": "stdout",
          "text": [
            "4/4 [==============================] - 0s 3ms/step\n",
            "Prediction is: 0.30000001192092896\n"
          ]
        }
      ]
    },
    {
      "cell_type": "markdown",
      "source": [
        "### Finding the Parameters (Weights and Bias)"
      ],
      "metadata": {
        "id": "zj7at-sJUNmU"
      }
    },
    {
      "cell_type": "code",
      "source": [
        "print('Printing the Weights and Biases of the layers')\n",
        "print('\\n')\n",
        "\n",
        "for layer in model.layers:\n",
        "  print(layer.name)\n",
        "  print('Weights')\n",
        "  print(layer.get_weights()[0])\n",
        "  print('\\n')\n",
        "  print(layer.get_weights()[1])"
      ],
      "metadata": {
        "colab": {
          "base_uri": "https://localhost:8080/"
        },
        "id": "Raduhs9qMeQu",
        "outputId": "3804090e-e9c3-4d32-af83-82a9fa4d91d9"
      },
      "execution_count": 12,
      "outputs": [
        {
          "output_type": "stream",
          "name": "stdout",
          "text": [
            "Printing the Weights and Biases of the layers\n",
            "\n",
            "\n",
            "dense\n",
            "Weights\n",
            "[[-0.6939692  -0.4182837   0.34200397]\n",
            " [ 0.5368299   0.63971615  0.6429566 ]\n",
            " [-0.17585093 -0.3461465   0.6113551 ]\n",
            " [-0.37394232 -0.40165076 -0.45171598]\n",
            " [-0.7481547   0.02051195 -0.1393025 ]]\n",
            "\n",
            "\n",
            "[ 0.00190448 -0.31035215  0.3561374 ]\n",
            "dense_1\n",
            "Weights\n",
            "[[-0.13142686]\n",
            " [ 1.0805383 ]\n",
            " [-0.00212832]]\n",
            "\n",
            "\n",
            "[-0.8483002]\n"
          ]
        }
      ]
    },
    {
      "cell_type": "markdown",
      "source": [
        "# References\n",
        "\n",
        "- Model: https://neptune.ai/blog/how-to-choose-a-learning-rate-scheduler\n",
        "\n",
        "- Model: https://machinelearningmastery.com/build-multi-layer-perceptron-neural-network-models-keras/\n",
        "\n",
        "- Model: https://machinelearningmastery.com/visualize-deep-learning-neural-network-model-keras/\n",
        "\n",
        "- Model: https://faroit.com/keras-docs/1.0.1/getting-started/sequential-model-guide/\n",
        "\n",
        "- ReLU and Sigmoid: https://keras.io/api/layers/activations/\n",
        "\n",
        "- MAE: https://www.tensorflow.org/api_docs/python/tf/keras/metrics/mean_absolute_error\n",
        "\n",
        "- MAE: https://hackernoon.com/my-notes-on-mae-vs-mse-error-metrics\n",
        "\n",
        "- MAE: https://deepchecks.com/glossary/mean-absolute-error/#:~:text=It%20is%20measured%20as%20the,n)%20%7Cy_i%20–%20ŷ_i%7C\n",
        "\n",
        "- get_weights() TensorFlow: https://www.codespeedy.com/get_weights-and-set_weights-functions-in-keras-layers/\n",
        "\n",
        "Extra:\n",
        "\n",
        "- https://phoenixnap.com/kb/check-tensorflow-version\n",
        "\n",
        "- Numpy: https://www.geeksforgeeks.org/numpy-random-rand-python/\n",
        "\n",
        "- Numpy: https://www.geeksforgeeks.org/numpy-full-python/"
      ],
      "metadata": {
        "id": "0vqglv_MoePW"
      }
    }
  ]
}